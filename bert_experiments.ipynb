{
 "cells": [
  {
   "cell_type": "code",
   "execution_count": 1,
   "metadata": {},
   "outputs": [
    {
     "name": "stdout",
     "output_type": "stream",
     "text": [
      "Better speed can be achieved with apex installed from https://www.github.com/nvidia/apex.\n"
     ]
    }
   ],
   "source": [
    "import sys\n",
    "import os\n",
    "sys.path.append('/usr0/home/drschwar/src/bert_erp/')\n",
    "import json\n",
    "import dataclasses\n",
    "\n",
    "import numpy as np\n",
    "\n",
    "from bert_erp_paths import Paths\n",
    "from run_regression import named_variations\n",
    "from analysis import print_variation_results, sentence_predictions\n",
    "from bert_erp_datasets import read_natural_story_codings"
   ]
  },
  {
   "cell_type": "code",
   "execution_count": 2,
   "metadata": {},
   "outputs": [],
   "source": [
    "paths = Paths()\n",
    "id_to_coding = read_natural_story_codings(paths.natural_stories_path)"
   ]
  },
  {
   "cell_type": "code",
   "execution_count": 3,
   "metadata": {},
   "outputs": [
    {
     "name": "stdout",
     "output_type": "stream",
     "text": [
      "Variation: ns_spr\n",
      "name             mse        pove        povu         var\n",
      "ns_spr      0.823998    0.216402    0.783598     1.05355\n",
      "\n",
      "\n",
      "Variation: elan, epnp, lan, n400, ns_spr, p600, pnp\n",
      "name             mse        pove        povu         var\n",
      "ns_spr      0.927642    0.117933    0.882067     1.05355\n",
      "elan        0.815637    0.190526    0.809474     1.01339\n",
      "lan         0.649163    0.362257    0.637743     1.02386\n",
      "n400         0.67574    0.307534    0.692466    0.982425\n",
      "epnp        0.619011    0.379519    0.620481     1.00521\n",
      "p600        0.660102    0.324835    0.675165    0.985622\n",
      "pnp         0.628112    0.357842    0.642158    0.984811\n",
      "\n",
      "\n",
      "Variation: elan, epnp, lan, n400, p600, pnp\n",
      "name             mse        pove        povu         var\n",
      "elan          0.8149    0.191144    0.808856     1.01339\n",
      "lan         0.651539    0.359966    0.640034     1.02386\n",
      "n400        0.676853    0.305853    0.694147    0.982425\n",
      "epnp        0.619381     0.37919     0.62081     1.00521\n",
      "p600        0.660762    0.324136    0.675864    0.985622\n",
      "pnp         0.629044    0.356807    0.643193    0.984811\n",
      "\n",
      "\n"
     ]
    }
   ],
   "source": [
    "paths = Paths()\n",
    "variation = 'nat_stories'\n",
    "training_variations, settings, num_runs, _ = named_variations(variation)\n",
    "for training_variation in training_variations:\n",
    "    training_variation = training_variation\n",
    "    print_variation_results(paths, variation, training_variation, num_runs)"
   ]
  },
  {
   "cell_type": "code",
   "execution_count": 4,
   "metadata": {},
   "outputs": [],
   "source": [
    "sentence_outputs = sentence_predictions(paths, variation, training_variations[1], num_runs)"
   ]
  },
  {
   "cell_type": "code",
   "execution_count": 7,
   "metadata": {},
   "outputs": [
    {
     "name": "stdout",
     "output_type": "stream",
     "text": [
      "elan\n",
      "As the car pulled up outside the school, which looked like a large shadow in the darkness of a November evening, Lucy felt a shiver run down her spine. source_relative_clause_non_restrictive:1, idiom:1\n",
      "Those shoes, they shined really brightly, and I liked looking at the bones in my feet, which I had never seen before, through a special x-ray machine they had in the shoe store that made the bones in your feet look green. object_relative_clause_non_restrictive:2, noun_phrase_sentence_ambiguity:1, topicalization:1\n",
      "Some of the drops that were the most fortunate, including Aqua, fell on a mountainside, and down the rocky cliff they ran. complementizer_phrase_conjunctions:1, source_relative_clause_restrictive:1, parenthetical:1\n",
      "She was the first performer. \n",
      "Lucy, who had started receiving these messages a few weeks ago, tapped the mobile screen to make the message disappear from view. source_relative_clause_non_restrictive:1, non_local_subject_verb:1\n",
      "One of the popular girls, Lucy had always known she wasn't, but before the messages began, Lucy had always been quite proud of being a little different. sentential_co_ordination:1, complementizer_phrase_conjunctions:1, topicalization:1\n",
      "Tics come and go over time, varying in type, frequency, location, and severity. local_verb_phrase_conjunction:1, local_noun_phrase_conjunction:1, inanimate_subjects:1\n",
      "The barber, who was a genial young man, grinned back at me and said that he would try his best. non_local_verb_phrase_conjunction:1, source_relative_clause_non_restrictive:1\n",
      "There was piping, hissing, and clacking, but finally it was decided that the bird that could fly the highest should be king. local_verb_phrase_conjunction:1, complementizer_phrase_conjunctions:1, source_relative_clause_restrictive:1, non_local_subject_verb:1\n",
      "'Yes,' Lucy replied, lying through her teeth. gerund_modifier:1, idiom:1, quotation:1\n",
      "\n",
      "\n",
      "lan\n",
      "Abby told her mom that she thought Sticky had grown a bit the next day at breakfast. prepositional_phrase_attachment_ambiguity:1\n",
      "That crowds of people often behave irrationally was the main thesis of the book, and tulip mania was one of the primary examples. sentential_subject:1, inanimate_subjects:1\n",
      "As the river grew wider and he could almost see the ocean, Aqua realized his journey was almost over and he had come full circle. complementizer_phrase_conjunctions:1, noun_phrase_sentence_ambiguity:1\n",
      "As the curtains began to part, she cast a worried look at Jill in the wings, who assured her with a positive thumbs up. source_relative_clause_non_restrictive:1\n",
      "She was getting several texts a day now, all of which were abusive and hurtful. adjective_conjunction:1, source_relative_clause_restrictive:1, source_relative_clause_non_restrictive:1\n",
      "He would certainly beat her, as he has done several times in the weeks past, because she had not earned any money today. \n",
      "The little bird lay low near the eagle at first, but the eagle did not notice the bird hopping onto his back right as the competition was about to commence. complementizer_phrase_conjunctions:1\n",
      "Abby's mom denied Abby's version of the story was true and said that she was careful, but because Mr. Sticky was so small he was hard to see. sentential_co_ordination:1, noun_phrase_sentence_ambiguity:1\n",
      "The door to the bedroom opened a few minutes later and Mom's face appeared. sentential_co_ordination:1\n",
      "'I'm beginning to suspect the pond weed is guilty, don't you think?' replied Mom. noun_phrase_sentence_ambiguity:1, quotation:1\n",
      "\n",
      "\n",
      "n400\n",
      "The huntsman discovered the boar preferred to come out in the middle of the day. noun_phrase_sentence_ambiguity:1\n",
      "Abby told her mom that she thought Sticky had grown a bit the next day at breakfast. prepositional_phrase_attachment_ambiguity:1\n",
      "Her mom said to wait a few hours until the water clears to take another careful look. \n",
      "At ten years old, I could not figure out what it was that this Elvis Presley guy had that the rest of us boys did not have. object_relative_clause_restrictive:2, free_relative_clause:1, it_cleft:1\n",
      "That evening, Abby went up to her bedroom to check the tank again. \n",
      "It was the new haircut, though, that I needed to complete my new look. object_relative_clause_non_restrictive:1, it_cleft:1\n",
      "She was getting several texts a day now, all of which were abusive and hurtful. adjective_conjunction:1, source_relative_clause_restrictive:1, source_relative_clause_non_restrictive:1\n",
      "Then she noticed another water snail was right next to Sticky and asked where this new addition to the family could have come from. non_local_verb_phrase_conjunction:1, adverbial_relative_clause:1, free_relative_clause:1, noun_phrase_sentence_ambiguity:1\n",
      "These spectacular and highly sought-after tulip bulbs would grow flowers with vivid colors, lines, and flames on the petals, as a result, it is now understood, of being infected with tulip-specific virus known as the 'Tulip breaking virus'. local_noun_phrase_conjunction:1, parenthetical:1, inanimate_subjects:1\n",
      "When the vapor is quite near the earth, we call it 'fog'. adverbial_relative_clause:1, quotation:1\n",
      "\n",
      "\n",
      "epnp\n",
      "Around noontime, the boar, feared by the locals, came out, as slow as a snail, from among the trees, just as the huntsman had predicted. parenthetical:2, post_nominal_adjective:1, as_as_construction:1\n",
      "She then admitted her regret about the phone was still bugging her out loud as she sighed, 'I never should have given you that phone Lucy.' noun_phrase_sentence_ambiguity:1, quotation:1\n",
      "The huntsman who had earned his prize fair and square received as his reward a piece of land just outside the town, known thereafter as Hunt Yard. source_relative_clause_restrictive:1, non_local_subject_verb:1, non_local_verb_direct_object:1\n",
      "If you breathe into the air, when it is cold enough, you will see it coming out of your mouth thick and fast like steam. adjective_conjunction:1, parenthetical:1\n",
      "Abby's mom denied Abby's version of the story was true and said that she was careful, but because Mr. Sticky was so small he was hard to see. sentential_co_ordination:1, noun_phrase_sentence_ambiguity:1\n",
      "'You've hoovered him up, haven't you?' she said accusingly. quotation:1, question_yn:1\n",
      "No court would enforce payment of a contract, since judges regarded the debts as contracted through gambling, and thus not enforceable by law. \n",
      "The door to the bedroom opened a few minutes later and Mom's face appeared. sentential_co_ordination:1\n",
      "I then sat down on the floor and brushed away the hair that had accumulated on my shiny new Buster Brown shoes. non_local_verb_phrase_conjunction:1, source_relative_clause_non_restrictive:1\n",
      "The nameless little bird that was as bold as brass found a pitch dark mouse's hole, and creeping in cried, 'I am king, I am king!' but it was of no avail. complementizer_phrase_conjunctions:2, source_relative_clause_non_restrictive:1, non_local_subject_verb:1, quotation:1, as_as_construction:1\n",
      "\n",
      "\n",
      "p600\n",
      "The water had settled and looked clear, but Abby could not see Mr. Sticky. local_verb_phrase_conjunction:1, sentential_co_ordination:1\n",
      "It was the little man who then walked over and said something to the man who was cutting my hair. local_verb_phrase_conjunction:1, source_relative_clause_restrictive:2, it_cleft:1\n",
      "I was now almost ready to go back to the orphanage and practice being like the man who all the girls loved, since I had my new Buster Brown shoes. non_local_verb_phrase_conjunction:1, source_relative_clause_restrictive:1\n",
      "Then the little bird guarded by the owl peeped out, and when he saw the owl's two eyes tight shut, he slipped from the hole and flew away. non_local_verb_phrase_conjunction:1, complementizer_phrase_conjunctions:1, adverbial_relative_clause:1\n",
      "That evening, Abby went up to her bedroom to check the tank again. \n",
      "The next instance he opened the boar's mouth and cut out its tongue, taking that as proof for the Lord. non_local_verb_phrase_conjunction:1, gerund_modifier:1\n",
      "Abby's mom denied Abby's version of the story was true and said that she was careful, but because Mr. Sticky was so small he was hard to see. sentential_co_ordination:1, noun_phrase_sentence_ambiguity:1\n",
      "A meeting of all the birds was called and though they understood the birds who were from the most distant lands would be unable to come, many birds came from faraway meadows and woods. local_noun_phrase_conjunction:1, complementizer_phrase_conjunctions:1, source_relative_clause_restrictive:1, noun_phrase_sentence_ambiguity:1\n",
      "No court would enforce payment of a contract, since judges regarded the debts as contracted through gambling, and thus not enforceable by law. \n",
      "So with her naked feet, which were quite red and blue with the cold, the little girl went on, wondering how she would get through this dreadful night. adjective_conjunction:1, source_relative_clause_non_restrictive:1, gerund_modifier:1\n",
      "\n",
      "\n",
      "pnp\n",
      "Abby's mom denied Abby's version of the story was true and said that she was careful, but because Mr. Sticky was so small he was hard to see. sentential_co_ordination:1, noun_phrase_sentence_ambiguity:1\n",
      "A meeting of all the birds was called and though they understood the birds who were from the most distant lands would be unable to come, many birds came from faraway meadows and woods. local_noun_phrase_conjunction:1, complementizer_phrase_conjunctions:1, source_relative_clause_restrictive:1, noun_phrase_sentence_ambiguity:1\n",
      "'Nothing at all, but it makes things hard to find.' tough_movement:1, quotation:1\n",
      "Lucy was in the heart of the song with the rest of the world slipping away. idiom:1\n",
      "She then admitted her regret about the phone was still bugging her out loud as she sighed, 'I never should have given you that phone Lucy.' noun_phrase_sentence_ambiguity:1, quotation:1\n",
      "No court would enforce payment of a contract, since judges regarded the debts as contracted through gambling, and thus not enforceable by law. \n",
      "If you breathe into the air, when it is cold enough, you will see it coming out of your mouth thick and fast like steam. adjective_conjunction:1, parenthetical:1\n",
      "Around noontime, the boar, feared by the locals, came out, as slow as a snail, from among the trees, just as the huntsman had predicted. parenthetical:2, post_nominal_adjective:1, as_as_construction:1\n",
      "The speculative bubble burst. inanimate_subjects:1\n",
      "Genetic studies also suggest that some forms of Attention Deficit Hyperactivity Disorder and Obsessive Compulsive Disorder are genetically related to Tourette's, but there is less evidence for a genetic relationship between Tourette's and other neurobehavioral problems that Tourette's commonly co-occurs with. non_local_noun_phrase_conjunction:1, sentential_co_ordination:1, object_relative_clause_restrictive:1, object_relative_clause_non_canonical:1, non_local_subject_verb:1, inanimate_subjects:3\n",
      "\n",
      "\n"
     ]
    }
   ],
   "source": [
    "erp_values = dict()\n",
    "data_key = 'natural_stories'\n",
    "for erp in ('elan', 'lan', 'n400', 'epnp', 'p600', 'pnp'):\n",
    "    erp_values[erp] = dict()\n",
    "    for key in sorted(sentence_outputs[erp][data_key]):\n",
    "        maxes = list()\n",
    "        for idx in range(len(sentence_outputs[erp][data_key][key])):\n",
    "            predictions = np.array(sentence_outputs[erp][data_key][key][idx]['prediction'])\n",
    "            maxes.append(np.max(np.abs(predictions)))\n",
    "        mean_max = np.mean(maxes)\n",
    "        erp_values[erp][key] = mean_max\n",
    "        \n",
    "for erp in erp_values:\n",
    "    sorted_erp_keys = list(sorted(erp_values[erp], key=lambda k: -erp_values[erp][k]))[:10]\n",
    "    print(erp)\n",
    "    for k in sorted_erp_keys:\n",
    "        coding = dataclasses.asdict(id_to_coding[k])\n",
    "        text = ''\n",
    "        outputs = list()\n",
    "        for field in coding:\n",
    "            if field == 'sentence':\n",
    "                text = coding[field]\n",
    "            elif field == 'sentence_number':\n",
    "                continue\n",
    "            elif isinstance(coding[field], int) and coding[field] > 0:\n",
    "                outputs.append('{}:{}'.format(field, coding[field]))\n",
    "        print('{} {}'.format(text, ', '.join(outputs)))\n",
    "    print('')\n",
    "    print('')"
   ]
  },
  {
   "cell_type": "code",
   "execution_count": null,
   "metadata": {},
   "outputs": [],
   "source": []
  }
 ],
 "metadata": {
  "kernelspec": {
   "display_name": "Python 3",
   "language": "python",
   "name": "python3"
  },
  "language_info": {
   "codemirror_mode": {
    "name": "ipython",
    "version": 3
   },
   "file_extension": ".py",
   "mimetype": "text/x-python",
   "name": "python",
   "nbconvert_exporter": "python",
   "pygments_lexer": "ipython3",
   "version": "3.7.2"
  }
 },
 "nbformat": 4,
 "nbformat_minor": 2
}
